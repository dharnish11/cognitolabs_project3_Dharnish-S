{
 "cells": [
  {
   "cell_type": "code",
   "execution_count": null,
   "id": "585d5c4a",
   "metadata": {},
   "outputs": [],
   "source": [
    "# I choose project three because i have completed few recommendation projects before in college. i have created a recommendation based on amazon datased"
   ]
  },
  {
   "cell_type": "code",
   "execution_count": 1,
   "id": "def6705b",
   "metadata": {},
   "outputs": [],
   "source": [
    "#Popularity based are a great strategy to target the new customers with the most popular products sold on a business's website and is very useful to cold start a recommendation engine."
   ]
  },
  {
   "cell_type": "code",
   "execution_count": 2,
   "id": "87decb16",
   "metadata": {},
   "outputs": [],
   "source": [
    "import numpy as np\n",
    "import pandas as pd\n",
    "import matplotlib.pyplot as plt\n",
    "\n",
    "# %matplotlib inline\n",
    "plt.style.use(\"ggplot\")\n",
    "\n",
    "import sklearn\n",
    "from sklearn.decomposition import TruncatedSVD"
   ]
  },
  {
   "cell_type": "code",
   "execution_count": 3,
   "id": "24bc9749",
   "metadata": {},
   "outputs": [
    {
     "data": {
      "text/html": [
       "<div>\n",
       "<style scoped>\n",
       "    .dataframe tbody tr th:only-of-type {\n",
       "        vertical-align: middle;\n",
       "    }\n",
       "\n",
       "    .dataframe tbody tr th {\n",
       "        vertical-align: top;\n",
       "    }\n",
       "\n",
       "    .dataframe thead th {\n",
       "        text-align: right;\n",
       "    }\n",
       "</style>\n",
       "<table border=\"1\" class=\"dataframe\">\n",
       "  <thead>\n",
       "    <tr style=\"text-align: right;\">\n",
       "      <th></th>\n",
       "      <th>UserId</th>\n",
       "      <th>ProductId</th>\n",
       "      <th>Rating</th>\n",
       "      <th>Timestamp</th>\n",
       "    </tr>\n",
       "  </thead>\n",
       "  <tbody>\n",
       "    <tr>\n",
       "      <th>0</th>\n",
       "      <td>A39HTATAQ9V7YF</td>\n",
       "      <td>0205616461</td>\n",
       "      <td>5.0</td>\n",
       "      <td>1369699200</td>\n",
       "    </tr>\n",
       "    <tr>\n",
       "      <th>1</th>\n",
       "      <td>A3JM6GV9MNOF9X</td>\n",
       "      <td>0558925278</td>\n",
       "      <td>3.0</td>\n",
       "      <td>1355443200</td>\n",
       "    </tr>\n",
       "    <tr>\n",
       "      <th>2</th>\n",
       "      <td>A1Z513UWSAAO0F</td>\n",
       "      <td>0558925278</td>\n",
       "      <td>5.0</td>\n",
       "      <td>1404691200</td>\n",
       "    </tr>\n",
       "    <tr>\n",
       "      <th>3</th>\n",
       "      <td>A1WMRR494NWEWV</td>\n",
       "      <td>0733001998</td>\n",
       "      <td>4.0</td>\n",
       "      <td>1382572800</td>\n",
       "    </tr>\n",
       "    <tr>\n",
       "      <th>4</th>\n",
       "      <td>A3IAAVS479H7M7</td>\n",
       "      <td>0737104473</td>\n",
       "      <td>1.0</td>\n",
       "      <td>1274227200</td>\n",
       "    </tr>\n",
       "  </tbody>\n",
       "</table>\n",
       "</div>"
      ],
      "text/plain": [
       "           UserId   ProductId  Rating   Timestamp\n",
       "0  A39HTATAQ9V7YF  0205616461     5.0  1369699200\n",
       "1  A3JM6GV9MNOF9X  0558925278     3.0  1355443200\n",
       "2  A1Z513UWSAAO0F  0558925278     5.0  1404691200\n",
       "3  A1WMRR494NWEWV  0733001998     4.0  1382572800\n",
       "4  A3IAAVS479H7M7  0737104473     1.0  1274227200"
      ]
     },
     "execution_count": 3,
     "metadata": {},
     "output_type": "execute_result"
    }
   ],
   "source": [
    "amazon_ratings = pd.read_csv(\"C:/Users/dharn/Downloads/archive (10)/ratings_Beauty.csv\")\n",
    "amazon_ratings = amazon_ratings.dropna()\n",
    "amazon_ratings.head()"
   ]
  },
  {
   "cell_type": "code",
   "execution_count": 4,
   "id": "ce507d77",
   "metadata": {},
   "outputs": [
    {
     "data": {
      "text/plain": [
       "(2023070, 4)"
      ]
     },
     "execution_count": 4,
     "metadata": {},
     "output_type": "execute_result"
    }
   ],
   "source": [
    "amazon_ratings.shape\n"
   ]
  },
  {
   "cell_type": "code",
   "execution_count": 5,
   "id": "85553221",
   "metadata": {},
   "outputs": [
    {
     "data": {
      "text/html": [
       "<div>\n",
       "<style scoped>\n",
       "    .dataframe tbody tr th:only-of-type {\n",
       "        vertical-align: middle;\n",
       "    }\n",
       "\n",
       "    .dataframe tbody tr th {\n",
       "        vertical-align: top;\n",
       "    }\n",
       "\n",
       "    .dataframe thead th {\n",
       "        text-align: right;\n",
       "    }\n",
       "</style>\n",
       "<table border=\"1\" class=\"dataframe\">\n",
       "  <thead>\n",
       "    <tr style=\"text-align: right;\">\n",
       "      <th></th>\n",
       "      <th>Rating</th>\n",
       "    </tr>\n",
       "    <tr>\n",
       "      <th>ProductId</th>\n",
       "      <th></th>\n",
       "    </tr>\n",
       "  </thead>\n",
       "  <tbody>\n",
       "    <tr>\n",
       "      <th>B001MA0QY2</th>\n",
       "      <td>7533</td>\n",
       "    </tr>\n",
       "    <tr>\n",
       "      <th>B0009V1YR8</th>\n",
       "      <td>2869</td>\n",
       "    </tr>\n",
       "    <tr>\n",
       "      <th>B0043OYFKU</th>\n",
       "      <td>2477</td>\n",
       "    </tr>\n",
       "    <tr>\n",
       "      <th>B0000YUXI0</th>\n",
       "      <td>2143</td>\n",
       "    </tr>\n",
       "    <tr>\n",
       "      <th>B003V265QW</th>\n",
       "      <td>2088</td>\n",
       "    </tr>\n",
       "    <tr>\n",
       "      <th>B000ZMBSPE</th>\n",
       "      <td>2041</td>\n",
       "    </tr>\n",
       "    <tr>\n",
       "      <th>B003BQ6QXK</th>\n",
       "      <td>1918</td>\n",
       "    </tr>\n",
       "    <tr>\n",
       "      <th>B004OHQR1Q</th>\n",
       "      <td>1885</td>\n",
       "    </tr>\n",
       "    <tr>\n",
       "      <th>B00121UVU0</th>\n",
       "      <td>1838</td>\n",
       "    </tr>\n",
       "    <tr>\n",
       "      <th>B000FS05VG</th>\n",
       "      <td>1589</td>\n",
       "    </tr>\n",
       "  </tbody>\n",
       "</table>\n",
       "</div>"
      ],
      "text/plain": [
       "            Rating\n",
       "ProductId         \n",
       "B001MA0QY2    7533\n",
       "B0009V1YR8    2869\n",
       "B0043OYFKU    2477\n",
       "B0000YUXI0    2143\n",
       "B003V265QW    2088\n",
       "B000ZMBSPE    2041\n",
       "B003BQ6QXK    1918\n",
       "B004OHQR1Q    1885\n",
       "B00121UVU0    1838\n",
       "B000FS05VG    1589"
      ]
     },
     "execution_count": 5,
     "metadata": {},
     "output_type": "execute_result"
    }
   ],
   "source": [
    "popular_products = pd.DataFrame(amazon_ratings.groupby('ProductId')['Rating'].count())\n",
    "most_popular = popular_products.sort_values('Rating', ascending=False)\n",
    "most_popular.head(10)"
   ]
  },
  {
   "cell_type": "code",
   "execution_count": 10,
   "id": "d6012801",
   "metadata": {},
   "outputs": [
    {
     "data": {
      "text/plain": [
       "<Axes: xlabel='ProductId'>"
      ]
     },
     "execution_count": 10,
     "metadata": {},
     "output_type": "execute_result"
    },
    {
     "data": {
      "image/png": "[encoded data removed]",
      "text/plain": [
       "<Figure size 640x480 with 1 Axes>"
      ]
     },
     "metadata": {},
     "output_type": "display_data"
    }
   ],
   "source": [
    "most_popular.head(40).plot(kind = \"bar\")"
   ]
  },
  {
   "cell_type": "code",
   "execution_count": 11,
   "id": "6446e6c4",
   "metadata": {},
   "outputs": [],
   "source": [
    "#from the above graph we can identify the most popular products\n"
   ]
  },
  {
   "cell_type": "code",
   "execution_count": 12,
   "id": "6f79998b",
   "metadata": {},
   "outputs": [],
   "source": [
    "#so I am going to recommend the products based on purchase history and similarity of ratings provided by other users who bought items to that of a particular customer."
   ]
  },
  {
   "cell_type": "code",
   "execution_count": 13,
   "id": "4f7c6723",
   "metadata": {},
   "outputs": [],
   "source": [
    "amazon_ratings1 = amazon_ratings.head(10000)"
   ]
  },
  {
   "cell_type": "code",
   "execution_count": 14,
   "id": "3eb4f2a5",
   "metadata": {},
   "outputs": [
    {
     "data": {
      "text/html": [
       "<div>\n",
       "<style scoped>\n",
       "    .dataframe tbody tr th:only-of-type {\n",
       "        vertical-align: middle;\n",
       "    }\n",
       "\n",
       "    .dataframe tbody tr th {\n",
       "        vertical-align: top;\n",
       "    }\n",
       "\n",
       "    .dataframe thead th {\n",
       "        text-align: right;\n",
       "    }\n",
       "</style>\n",
       "<table border=\"1\" class=\"dataframe\">\n",
       "  <thead>\n",
       "    <tr style=\"text-align: right;\">\n",
       "      <th>ProductId</th>\n",
       "      <th>0205616461</th>\n",
       "      <th>0558925278</th>\n",
       "      <th>0733001998</th>\n",
       "      <th>0737104473</th>\n",
       "      <th>0762451459</th>\n",
       "      <th>1304139212</th>\n",
       "      <th>1304139220</th>\n",
       "      <th>130414089X</th>\n",
       "      <th>130414643X</th>\n",
       "      <th>1304146537</th>\n",
       "      <th>...</th>\n",
       "      <th>B000052YPE</th>\n",
       "      <th>B000052YPF</th>\n",
       "      <th>B000052YPG</th>\n",
       "      <th>B000052YPH</th>\n",
       "      <th>B000052YPM</th>\n",
       "      <th>B000052YPU</th>\n",
       "      <th>B000052YPV</th>\n",
       "      <th>B000052YPY</th>\n",
       "      <th>B000052YQ0</th>\n",
       "      <th>B000052YQ2</th>\n",
       "    </tr>\n",
       "    <tr>\n",
       "      <th>UserId</th>\n",
       "      <th></th>\n",
       "      <th></th>\n",
       "      <th></th>\n",
       "      <th></th>\n",
       "      <th></th>\n",
       "      <th></th>\n",
       "      <th></th>\n",
       "      <th></th>\n",
       "      <th></th>\n",
       "      <th></th>\n",
       "      <th></th>\n",
       "      <th></th>\n",
       "      <th></th>\n",
       "      <th></th>\n",
       "      <th></th>\n",
       "      <th></th>\n",
       "      <th></th>\n",
       "      <th></th>\n",
       "      <th></th>\n",
       "      <th></th>\n",
       "      <th></th>\n",
       "    </tr>\n",
       "  </thead>\n",
       "  <tbody>\n",
       "    <tr>\n",
       "      <th>A00205921JHJK5X9LNP42</th>\n",
       "      <td>0</td>\n",
       "      <td>0</td>\n",
       "      <td>0</td>\n",
       "      <td>0</td>\n",
       "      <td>0</td>\n",
       "      <td>0</td>\n",
       "      <td>0</td>\n",
       "      <td>0</td>\n",
       "      <td>0</td>\n",
       "      <td>0</td>\n",
       "      <td>...</td>\n",
       "      <td>0</td>\n",
       "      <td>0</td>\n",
       "      <td>0</td>\n",
       "      <td>0</td>\n",
       "      <td>0</td>\n",
       "      <td>0</td>\n",
       "      <td>0</td>\n",
       "      <td>0</td>\n",
       "      <td>0</td>\n",
       "      <td>0</td>\n",
       "    </tr>\n",
       "    <tr>\n",
       "      <th>A024581134CV80ZBLIZTZ</th>\n",
       "      <td>0</td>\n",
       "      <td>0</td>\n",
       "      <td>0</td>\n",
       "      <td>0</td>\n",
       "      <td>0</td>\n",
       "      <td>0</td>\n",
       "      <td>0</td>\n",
       "      <td>0</td>\n",
       "      <td>0</td>\n",
       "      <td>0</td>\n",
       "      <td>...</td>\n",
       "      <td>0</td>\n",
       "      <td>0</td>\n",
       "      <td>0</td>\n",
       "      <td>0</td>\n",
       "      <td>0</td>\n",
       "      <td>0</td>\n",
       "      <td>0</td>\n",
       "      <td>0</td>\n",
       "      <td>0</td>\n",
       "      <td>0</td>\n",
       "    </tr>\n",
       "    <tr>\n",
       "      <th>A03056581JJIOL5FSKJY7</th>\n",
       "      <td>0</td>\n",
       "      <td>0</td>\n",
       "      <td>0</td>\n",
       "      <td>0</td>\n",
       "      <td>0</td>\n",
       "      <td>0</td>\n",
       "      <td>0</td>\n",
       "      <td>0</td>\n",
       "      <td>0</td>\n",
       "      <td>0</td>\n",
       "      <td>...</td>\n",
       "      <td>0</td>\n",
       "      <td>0</td>\n",
       "      <td>0</td>\n",
       "      <td>0</td>\n",
       "      <td>0</td>\n",
       "      <td>0</td>\n",
       "      <td>0</td>\n",
       "      <td>0</td>\n",
       "      <td>0</td>\n",
       "      <td>0</td>\n",
       "    </tr>\n",
       "    <tr>\n",
       "      <th>A03099101ZRK4K607JVHH</th>\n",
       "      <td>0</td>\n",
       "      <td>0</td>\n",
       "      <td>0</td>\n",
       "      <td>0</td>\n",
       "      <td>0</td>\n",
       "      <td>0</td>\n",
       "      <td>0</td>\n",
       "      <td>0</td>\n",
       "      <td>0</td>\n",
       "      <td>0</td>\n",
       "      <td>...</td>\n",
       "      <td>0</td>\n",
       "      <td>0</td>\n",
       "      <td>0</td>\n",
       "      <td>0</td>\n",
       "      <td>0</td>\n",
       "      <td>0</td>\n",
       "      <td>0</td>\n",
       "      <td>0</td>\n",
       "      <td>0</td>\n",
       "      <td>0</td>\n",
       "    </tr>\n",
       "    <tr>\n",
       "      <th>A0505229A7NSH3FRXRR4</th>\n",
       "      <td>0</td>\n",
       "      <td>0</td>\n",
       "      <td>0</td>\n",
       "      <td>0</td>\n",
       "      <td>0</td>\n",
       "      <td>0</td>\n",
       "      <td>0</td>\n",
       "      <td>0</td>\n",
       "      <td>0</td>\n",
       "      <td>0</td>\n",
       "      <td>...</td>\n",
       "      <td>0</td>\n",
       "      <td>0</td>\n",
       "      <td>0</td>\n",
       "      <td>0</td>\n",
       "      <td>0</td>\n",
       "      <td>0</td>\n",
       "      <td>0</td>\n",
       "      <td>0</td>\n",
       "      <td>0</td>\n",
       "      <td>0</td>\n",
       "    </tr>\n",
       "  </tbody>\n",
       "</table>\n",
       "<p>5 rows × 886 columns</p>\n",
       "</div>"
      ],
      "text/plain": [
       "ProductId              0205616461  0558925278  0733001998  0737104473  \\\n",
       "UserId                                                                  \n",
       "A00205921JHJK5X9LNP42           0           0           0           0   \n",
       "A024581134CV80ZBLIZTZ           0           0           0           0   \n",
       "A03056581JJIOL5FSKJY7           0           0           0           0   \n",
       "A03099101ZRK4K607JVHH           0           0           0           0   \n",
       "A0505229A7NSH3FRXRR4            0           0           0           0   \n",
       "\n",
       "ProductId              0762451459  1304139212  1304139220  130414089X  \\\n",
       "UserId                                                                  \n",
       "A00205921JHJK5X9LNP42           0           0           0           0   \n",
       "A024581134CV80ZBLIZTZ           0           0           0           0   \n",
       "A03056581JJIOL5FSKJY7           0           0           0           0   \n",
       "A03099101ZRK4K607JVHH           0           0           0           0   \n",
       "A0505229A7NSH3FRXRR4            0           0           0           0   \n",
       "\n",
       "ProductId              130414643X  1304146537  ...  B000052YPE  B000052YPF  \\\n",
       "UserId                                         ...                           \n",
       "A00205921JHJK5X9LNP42           0           0  ...           0           0   \n",
       "A024581134CV80ZBLIZTZ           0           0  ...           0           0   \n",
       "A03056581JJIOL5FSKJY7           0           0  ...           0           0   \n",
       "A03099101ZRK4K607JVHH           0           0  ...           0           0   \n",
       "A0505229A7NSH3FRXRR4            0           0  ...           0           0   \n",
       "\n",
       "ProductId              B000052YPG  B000052YPH  B000052YPM  B000052YPU  \\\n",
       "UserId                                                                  \n",
       "A00205921JHJK5X9LNP42           0           0           0           0   \n",
       "A024581134CV80ZBLIZTZ           0           0           0           0   \n",
       "A03056581JJIOL5FSKJY7           0           0           0           0   \n",
       "A03099101ZRK4K607JVHH           0           0           0           0   \n",
       "A0505229A7NSH3FRXRR4            0           0           0           0   \n",
       "\n",
       "ProductId              B000052YPV  B000052YPY  B000052YQ0  B000052YQ2  \n",
       "UserId                                                                 \n",
       "A00205921JHJK5X9LNP42           0           0           0           0  \n",
       "A024581134CV80ZBLIZTZ           0           0           0           0  \n",
       "A03056581JJIOL5FSKJY7           0           0           0           0  \n",
       "A03099101ZRK4K607JVHH           0           0           0           0  \n",
       "A0505229A7NSH3FRXRR4            0           0           0           0  \n",
       "\n",
       "[5 rows x 886 columns]"
      ]
     },
     "execution_count": 14,
     "metadata": {},
     "output_type": "execute_result"
    }
   ],
   "source": [
    "ratings_utility_matrix = amazon_ratings1.pivot_table(values='Rating', index='UserId', columns='ProductId', fill_value=0)\n",
    "ratings_utility_matrix.head()"
   ]
  },
  {
   "cell_type": "code",
   "execution_count": 15,
   "id": "39823c94",
   "metadata": {},
   "outputs": [],
   "source": [
    "#in the above list the unknown value is denoted by 0"
   ]
  },
  {
   "cell_type": "code",
   "execution_count": 17,
   "id": "4ad6064a",
   "metadata": {},
   "outputs": [
    {
     "data": {
      "text/plain": [
       "(9697, 886)"
      ]
     },
     "execution_count": 17,
     "metadata": {},
     "output_type": "execute_result"
    }
   ],
   "source": [
    "ratings_utility_matrix.shape"
   ]
  },
  {
   "cell_type": "code",
   "execution_count": 18,
   "id": "cf1d2fe8",
   "metadata": {},
   "outputs": [
    {
     "data": {
      "text/html": [
       "<div>\n",
       "<style scoped>\n",
       "    .dataframe tbody tr th:only-of-type {\n",
       "        vertical-align: middle;\n",
       "    }\n",
       "\n",
       "    .dataframe tbody tr th {\n",
       "        vertical-align: top;\n",
       "    }\n",
       "\n",
       "    .dataframe thead th {\n",
       "        text-align: right;\n",
       "    }\n",
       "</style>\n",
       "<table border=\"1\" class=\"dataframe\">\n",
       "  <thead>\n",
       "    <tr style=\"text-align: right;\">\n",
       "      <th>UserId</th>\n",
       "      <th>A00205921JHJK5X9LNP42</th>\n",
       "      <th>A024581134CV80ZBLIZTZ</th>\n",
       "      <th>A03056581JJIOL5FSKJY7</th>\n",
       "      <th>A03099101ZRK4K607JVHH</th>\n",
       "      <th>A0505229A7NSH3FRXRR4</th>\n",
       "      <th>A05492663T95KW63BR75K</th>\n",
       "      <th>A059547920Q3LZVFHLPI3</th>\n",
       "      <th>A07410232KYRFR25CIUGJ</th>\n",
       "      <th>A082796624UNM47DSAI6K</th>\n",
       "      <th>A0864963DOAY7LXGS5I6</th>\n",
       "      <th>...</th>\n",
       "      <th>AZW1HXXYAC15B</th>\n",
       "      <th>AZWRTJPN7NXT</th>\n",
       "      <th>AZWTXHXZXFAYP</th>\n",
       "      <th>AZYQEFB9Y5N22</th>\n",
       "      <th>AZZHB6U54UDYW</th>\n",
       "      <th>AZZHJZP4GQPPZ</th>\n",
       "      <th>AZZNK89PXD006</th>\n",
       "      <th>AZZOFVMQC0BJG</th>\n",
       "      <th>AZZQXL8VDCFTV</th>\n",
       "      <th>AZZTJQ7CQZUD8</th>\n",
       "    </tr>\n",
       "    <tr>\n",
       "      <th>ProductId</th>\n",
       "      <th></th>\n",
       "      <th></th>\n",
       "      <th></th>\n",
       "      <th></th>\n",
       "      <th></th>\n",
       "      <th></th>\n",
       "      <th></th>\n",
       "      <th></th>\n",
       "      <th></th>\n",
       "      <th></th>\n",
       "      <th></th>\n",
       "      <th></th>\n",
       "      <th></th>\n",
       "      <th></th>\n",
       "      <th></th>\n",
       "      <th></th>\n",
       "      <th></th>\n",
       "      <th></th>\n",
       "      <th></th>\n",
       "      <th></th>\n",
       "      <th></th>\n",
       "    </tr>\n",
       "  </thead>\n",
       "  <tbody>\n",
       "    <tr>\n",
       "      <th>0205616461</th>\n",
       "      <td>0</td>\n",
       "      <td>0</td>\n",
       "      <td>0</td>\n",
       "      <td>0</td>\n",
       "      <td>0</td>\n",
       "      <td>0</td>\n",
       "      <td>0</td>\n",
       "      <td>0</td>\n",
       "      <td>0</td>\n",
       "      <td>0</td>\n",
       "      <td>...</td>\n",
       "      <td>0</td>\n",
       "      <td>0</td>\n",
       "      <td>0</td>\n",
       "      <td>0</td>\n",
       "      <td>0</td>\n",
       "      <td>0</td>\n",
       "      <td>0</td>\n",
       "      <td>0</td>\n",
       "      <td>0</td>\n",
       "      <td>0</td>\n",
       "    </tr>\n",
       "    <tr>\n",
       "      <th>0558925278</th>\n",
       "      <td>0</td>\n",
       "      <td>0</td>\n",
       "      <td>0</td>\n",
       "      <td>0</td>\n",
       "      <td>0</td>\n",
       "      <td>0</td>\n",
       "      <td>0</td>\n",
       "      <td>0</td>\n",
       "      <td>0</td>\n",
       "      <td>0</td>\n",
       "      <td>...</td>\n",
       "      <td>0</td>\n",
       "      <td>0</td>\n",
       "      <td>0</td>\n",
       "      <td>0</td>\n",
       "      <td>0</td>\n",
       "      <td>0</td>\n",
       "      <td>0</td>\n",
       "      <td>0</td>\n",
       "      <td>0</td>\n",
       "      <td>0</td>\n",
       "    </tr>\n",
       "    <tr>\n",
       "      <th>0733001998</th>\n",
       "      <td>0</td>\n",
       "      <td>0</td>\n",
       "      <td>0</td>\n",
       "      <td>0</td>\n",
       "      <td>0</td>\n",
       "      <td>0</td>\n",
       "      <td>0</td>\n",
       "      <td>0</td>\n",
       "      <td>0</td>\n",
       "      <td>0</td>\n",
       "      <td>...</td>\n",
       "      <td>0</td>\n",
       "      <td>0</td>\n",
       "      <td>0</td>\n",
       "      <td>0</td>\n",
       "      <td>0</td>\n",
       "      <td>0</td>\n",
       "      <td>0</td>\n",
       "      <td>0</td>\n",
       "      <td>0</td>\n",
       "      <td>0</td>\n",
       "    </tr>\n",
       "    <tr>\n",
       "      <th>0737104473</th>\n",
       "      <td>0</td>\n",
       "      <td>0</td>\n",
       "      <td>0</td>\n",
       "      <td>0</td>\n",
       "      <td>0</td>\n",
       "      <td>0</td>\n",
       "      <td>0</td>\n",
       "      <td>0</td>\n",
       "      <td>0</td>\n",
       "      <td>0</td>\n",
       "      <td>...</td>\n",
       "      <td>0</td>\n",
       "      <td>0</td>\n",
       "      <td>0</td>\n",
       "      <td>0</td>\n",
       "      <td>0</td>\n",
       "      <td>0</td>\n",
       "      <td>0</td>\n",
       "      <td>0</td>\n",
       "      <td>0</td>\n",
       "      <td>0</td>\n",
       "    </tr>\n",
       "    <tr>\n",
       "      <th>0762451459</th>\n",
       "      <td>0</td>\n",
       "      <td>0</td>\n",
       "      <td>0</td>\n",
       "      <td>0</td>\n",
       "      <td>0</td>\n",
       "      <td>0</td>\n",
       "      <td>0</td>\n",
       "      <td>0</td>\n",
       "      <td>0</td>\n",
       "      <td>0</td>\n",
       "      <td>...</td>\n",
       "      <td>0</td>\n",
       "      <td>0</td>\n",
       "      <td>0</td>\n",
       "      <td>0</td>\n",
       "      <td>0</td>\n",
       "      <td>0</td>\n",
       "      <td>0</td>\n",
       "      <td>0</td>\n",
       "      <td>0</td>\n",
       "      <td>0</td>\n",
       "    </tr>\n",
       "  </tbody>\n",
       "</table>\n",
       "<p>5 rows × 9697 columns</p>\n",
       "</div>"
      ],
      "text/plain": [
       "UserId      A00205921JHJK5X9LNP42  A024581134CV80ZBLIZTZ  \\\n",
       "ProductId                                                  \n",
       "0205616461                      0                      0   \n",
       "0558925278                      0                      0   \n",
       "0733001998                      0                      0   \n",
       "0737104473                      0                      0   \n",
       "0762451459                      0                      0   \n",
       "\n",
       "UserId      A03056581JJIOL5FSKJY7  A03099101ZRK4K607JVHH  \\\n",
       "ProductId                                                  \n",
       "0205616461                      0                      0   \n",
       "0558925278                      0                      0   \n",
       "0733001998                      0                      0   \n",
       "0737104473                      0                      0   \n",
       "0762451459                      0                      0   \n",
       "\n",
       "UserId      A0505229A7NSH3FRXRR4  A05492663T95KW63BR75K  \\\n",
       "ProductId                                                 \n",
       "0205616461                     0                      0   \n",
       "0558925278                     0                      0   \n",
       "0733001998                     0                      0   \n",
       "0737104473                     0                      0   \n",
       "0762451459                     0                      0   \n",
       "\n",
       "UserId      A059547920Q3LZVFHLPI3  A07410232KYRFR25CIUGJ  \\\n",
       "ProductId                                                  \n",
       "0205616461                      0                      0   \n",
       "0558925278                      0                      0   \n",
       "0733001998                      0                      0   \n",
       "0737104473                      0                      0   \n",
       "0762451459                      0                      0   \n",
       "\n",
       "UserId      A082796624UNM47DSAI6K  A0864963DOAY7LXGS5I6  ...  AZW1HXXYAC15B  \\\n",
       "ProductId                                                ...                  \n",
       "0205616461                      0                     0  ...              0   \n",
       "0558925278                      0                     0  ...              0   \n",
       "0733001998                      0                     0  ...              0   \n",
       "0737104473                      0                     0  ...              0   \n",
       "0762451459                      0                     0  ...              0   \n",
       "\n",
       "UserId      AZWRTJPN7NXT  AZWTXHXZXFAYP  AZYQEFB9Y5N22  AZZHB6U54UDYW  \\\n",
       "ProductId                                                               \n",
       "0205616461             0              0              0              0   \n",
       "0558925278             0              0              0              0   \n",
       "0733001998             0              0              0              0   \n",
       "0737104473             0              0              0              0   \n",
       "0762451459             0              0              0              0   \n",
       "\n",
       "UserId      AZZHJZP4GQPPZ  AZZNK89PXD006  AZZOFVMQC0BJG  AZZQXL8VDCFTV  \\\n",
       "ProductId                                                                \n",
       "0205616461              0              0              0              0   \n",
       "0558925278              0              0              0              0   \n",
       "0733001998              0              0              0              0   \n",
       "0737104473              0              0              0              0   \n",
       "0762451459              0              0              0              0   \n",
       "\n",
       "UserId      AZZTJQ7CQZUD8  \n",
       "ProductId                  \n",
       "0205616461              0  \n",
       "0558925278              0  \n",
       "0733001998              0  \n",
       "0737104473              0  \n",
       "0762451459              0  \n",
       "\n",
       "[5 rows x 9697 columns]"
      ]
     },
     "execution_count": 18,
     "metadata": {},
     "output_type": "execute_result"
    }
   ],
   "source": [
    "X = ratings_utility_matrix.T\n",
    "X.head()"
   ]
  },
  {
   "cell_type": "code",
   "execution_count": 19,
   "id": "c4c530b7",
   "metadata": {},
   "outputs": [
    {
     "data": {
      "text/plain": [
       "(886, 9697)"
      ]
     },
     "execution_count": 19,
     "metadata": {},
     "output_type": "execute_result"
    }
   ],
   "source": [
    "X.shape"
   ]
  },
  {
   "cell_type": "code",
   "execution_count": 20,
   "id": "bc7440ce",
   "metadata": {},
   "outputs": [],
   "source": [
    "X1 = X"
   ]
  },
  {
   "cell_type": "code",
   "execution_count": 21,
   "id": "58d26be6",
   "metadata": {},
   "outputs": [
    {
     "data": {
      "text/plain": [
       "(886, 10)"
      ]
     },
     "execution_count": 21,
     "metadata": {},
     "output_type": "execute_result"
    }
   ],
   "source": [
    "SVD = TruncatedSVD(n_components=10)\n",
    "decomposed_matrix = SVD.fit_transform(X)\n",
    "decomposed_matrix.shape"
   ]
  },
  {
   "cell_type": "code",
   "execution_count": 22,
   "id": "9ba32d75",
   "metadata": {},
   "outputs": [
    {
     "data": {
      "text/plain": [
       "(886, 886)"
      ]
     },
     "execution_count": 22,
     "metadata": {},
     "output_type": "execute_result"
    }
   ],
   "source": [
    "correlation_matrix = np.corrcoef(decomposed_matrix)\n",
    "correlation_matrix.shape"
   ]
  },
  {
   "cell_type": "code",
   "execution_count": 24,
   "id": "3a206845",
   "metadata": {},
   "outputs": [
    {
     "data": {
      "text/plain": [
       "'6165290582'"
      ]
     },
     "execution_count": 24,
     "metadata": {},
     "output_type": "execute_result"
    }
   ],
   "source": [
    "X.index[105]\n"
   ]
  },
  {
   "cell_type": "code",
   "execution_count": 25,
   "id": "f554b102",
   "metadata": {},
   "outputs": [],
   "source": [
    "#lets check the product id values"
   ]
  },
  {
   "cell_type": "code",
   "execution_count": 26,
   "id": "aa51fbc2",
   "metadata": {},
   "outputs": [
    {
     "data": {
      "text/plain": [
       "105"
      ]
     },
     "execution_count": 26,
     "metadata": {},
     "output_type": "execute_result"
    }
   ],
   "source": [
    "i = \"6165290582\"\n",
    "\n",
    "product_names = list(X.index)\n",
    "product_ID = product_names.index(i)\n",
    "product_ID"
   ]
  },
  {
   "cell_type": "code",
   "execution_count": 27,
   "id": "e5a082d0",
   "metadata": {},
   "outputs": [
    {
     "data": {
      "text/plain": [
       "(886,)"
      ]
     },
     "execution_count": 27,
     "metadata": {},
     "output_type": "execute_result"
    }
   ],
   "source": [
    "correlation_product_ID = correlation_matrix[product_ID]\n",
    "correlation_product_ID.shape"
   ]
  },
  {
   "cell_type": "code",
   "execution_count": 28,
   "id": "24c710b0",
   "metadata": {},
   "outputs": [],
   "source": [
    "# So we will create a top 5 recommendation system"
   ]
  },
  {
   "cell_type": "code",
   "execution_count": 30,
   "id": "c6463e83",
   "metadata": {},
   "outputs": [
    {
     "data": {
      "text/plain": [
       "['0558925278', '1304622622', '322700075X', '3227001055', '4057362894']"
      ]
     },
     "execution_count": 30,
     "metadata": {},
     "output_type": "execute_result"
    }
   ],
   "source": [
    "Recommend = list(X.index[correlation_product_ID > 0.93])\n",
    "\n",
    "# Removes the item already bought by the customer\n",
    "Recommend.remove(i) \n",
    "\n",
    "Recommend[0:5]"
   ]
  },
  {
   "cell_type": "code",
   "execution_count": 31,
   "id": "e377adb8",
   "metadata": {},
   "outputs": [],
   "source": [
    "#So these are the top 5 liked products which are good for recommendation based on rating over 0.93"
   ]
  },
  {
   "cell_type": "code",
   "execution_count": 32,
   "id": "96426dc4",
   "metadata": {},
   "outputs": [],
   "source": [
    "from sklearn.feature_extraction.text import TfidfVectorizer, CountVectorizer\n",
    "from sklearn.neighbors import NearestNeighbors\n",
    "from sklearn import svm\n",
    "from sklearn.metrics import adjusted_rand_score"
   ]
  },
  {
   "cell_type": "code",
   "execution_count": 33,
   "id": "2eb28d9b",
   "metadata": {},
   "outputs": [],
   "source": [
    "#The product recommendations can be based on textual clustering analysis given in product description.I have used SVM classifier which is good for classification for this project"
   ]
  },
  {
   "cell_type": "code",
   "execution_count": 34,
   "id": "232f81dc",
   "metadata": {},
   "outputs": [
    {
     "data": {
      "text/plain": [
       "(2044803, 3)"
      ]
     },
     "execution_count": 34,
     "metadata": {},
     "output_type": "execute_result"
    }
   ],
   "source": [
    "product_descriptions = pd.read_csv(\"C:/Users/dharn/Downloads/attributes.csv/attributes.csv\")\n",
    "product_descriptions.shape"
   ]
  },
  {
   "cell_type": "code",
   "execution_count": 35,
   "id": "d37bab37",
   "metadata": {},
   "outputs": [
    {
     "data": {
      "text/html": [
       "<div>\n",
       "<style scoped>\n",
       "    .dataframe tbody tr th:only-of-type {\n",
       "        vertical-align: middle;\n",
       "    }\n",
       "\n",
       "    .dataframe tbody tr th {\n",
       "        vertical-align: top;\n",
       "    }\n",
       "\n",
       "    .dataframe thead th {\n",
       "        text-align: right;\n",
       "    }\n",
       "</style>\n",
       "<table border=\"1\" class=\"dataframe\">\n",
       "  <thead>\n",
       "    <tr style=\"text-align: right;\">\n",
       "      <th></th>\n",
       "      <th>product_uid</th>\n",
       "      <th>name</th>\n",
       "      <th>value</th>\n",
       "    </tr>\n",
       "  </thead>\n",
       "  <tbody>\n",
       "    <tr>\n",
       "      <th>0</th>\n",
       "      <td>100001.0</td>\n",
       "      <td>Bullet01</td>\n",
       "      <td>Versatile connector for various 90° connection...</td>\n",
       "    </tr>\n",
       "    <tr>\n",
       "      <th>1</th>\n",
       "      <td>100001.0</td>\n",
       "      <td>Bullet02</td>\n",
       "      <td>Stronger than angled nailing or screw fastenin...</td>\n",
       "    </tr>\n",
       "    <tr>\n",
       "      <th>2</th>\n",
       "      <td>100001.0</td>\n",
       "      <td>Bullet03</td>\n",
       "      <td>Help ensure joints are consistently straight a...</td>\n",
       "    </tr>\n",
       "    <tr>\n",
       "      <th>3</th>\n",
       "      <td>100001.0</td>\n",
       "      <td>Bullet04</td>\n",
       "      <td>Dimensions: 3 in. x 3 in. x 1-1/2 in.</td>\n",
       "    </tr>\n",
       "    <tr>\n",
       "      <th>4</th>\n",
       "      <td>100001.0</td>\n",
       "      <td>Bullet05</td>\n",
       "      <td>Made from 12-Gauge steel</td>\n",
       "    </tr>\n",
       "  </tbody>\n",
       "</table>\n",
       "</div>"
      ],
      "text/plain": [
       "   product_uid      name                                              value\n",
       "0     100001.0  Bullet01  Versatile connector for various 90° connection...\n",
       "1     100001.0  Bullet02  Stronger than angled nailing or screw fastenin...\n",
       "2     100001.0  Bullet03  Help ensure joints are consistently straight a...\n",
       "3     100001.0  Bullet04              Dimensions: 3 in. x 3 in. x 1-1/2 in.\n",
       "4     100001.0  Bullet05                           Made from 12-Gauge steel"
      ]
     },
     "execution_count": 35,
     "metadata": {},
     "output_type": "execute_result"
    }
   ],
   "source": [
    "product_descriptions = product_descriptions.dropna()\n",
    "product_descriptions.shape\n",
    "product_descriptions.head()"
   ]
  },
  {
   "cell_type": "code",
   "execution_count": 38,
   "id": "f902b8cc",
   "metadata": {},
   "outputs": [
    {
     "data": {
      "text/plain": [
       "0    Versatile connector for various 90° connection...\n",
       "1    Stronger than angled nailing or screw fastenin...\n",
       "2    Help ensure joints are consistently straight a...\n",
       "3                Dimensions: 3 in. x 3 in. x 1-1/2 in.\n",
       "4                             Made from 12-Gauge steel\n",
       "5            Galvanized for extra corrosion resistance\n",
       "6    Install with 10d common nails or #9 x 1-1/2 in...\n",
       "7                                                   12\n",
       "8                                     Galvanized Steel\n",
       "9                                   Simpson Strong-Tie\n",
       "Name: value, dtype: object"
      ]
     },
     "execution_count": 38,
     "metadata": {},
     "output_type": "execute_result"
    }
   ],
   "source": [
    "product_descriptions1 = product_descriptions.head(500)\n",
    "# product_descriptions1.iloc[:,1]\n",
    "\n",
    "product_descriptions1[\"value\"].head(10)"
   ]
  },
  {
   "cell_type": "code",
   "execution_count": 39,
   "id": "394e8170",
   "metadata": {},
   "outputs": [],
   "source": [
    "#we have extracted the features from the product and stored it separately \n",
    "#we have to Convert the text in product description into numerical data for analysis"
   ]
  },
  {
   "cell_type": "code",
   "execution_count": 41,
   "id": "19e8e884",
   "metadata": {},
   "outputs": [
    {
     "data": {
      "text/plain": [
       "<500x874 sparse matrix of type '<class 'numpy.float64'>'\n",
       "\twith 1402 stored elements in Compressed Sparse Row format>"
      ]
     },
     "execution_count": 41,
     "metadata": {},
     "output_type": "execute_result"
    }
   ],
   "source": [
    "vectorizer = TfidfVectorizer(stop_words='english')\n",
    "X1 = vectorizer.fit_transform(product_descriptions1[\"value\"])\n",
    "X1"
   ]
  },
  {
   "cell_type": "code",
   "execution_count": 46,
   "id": "93fdc5df",
   "metadata": {},
   "outputs": [],
   "source": [
    "from sklearn.cluster import KMeans"
   ]
  },
  {
   "cell_type": "code",
   "execution_count": 50,
   "id": "42a13180",
   "metadata": {},
   "outputs": [
    {
     "name": "stderr",
     "output_type": "stream",
     "text": [
      "C:\\Users\\dharn\\anaconda3\\lib\\site-packages\\sklearn\\cluster\\_kmeans.py:870: FutureWarning: The default value of `n_init` will change from 10 to 'auto' in 1.4. Set the value of `n_init` explicitly to suppress the warning\n",
      "  warnings.warn(\n"
     ]
    },
    {
     "data": {
      "image/png": "[encoded data removed]",
      "text/plain": [
       "<Figure size 640x480 with 1 Axes>"
      ]
     },
     "metadata": {},
     "output_type": "display_data"
    }
   ],
   "source": [
    "X=X1\n",
    "\n",
    "kmeans = KMeans(n_clusters = 10, init = 'k-means++')\n",
    "y_kmeans = kmeans.fit_predict(X)\n",
    "plt.plot(y_kmeans, \".\")\n",
    "plt.show()"
   ]
  },
  {
   "cell_type": "code",
   "execution_count": 51,
   "id": "7e31af92",
   "metadata": {},
   "outputs": [],
   "source": [
    "def print_cluster(i):\n",
    "    print(\"Cluster %d:\" % i),\n",
    "    for ind in order_centroids[i, :10]:\n",
    "        print(' %s' % terms[ind]),\n",
    "    print"
   ]
  },
  {
   "cell_type": "code",
   "execution_count": 52,
   "id": "7f8ec7d5",
   "metadata": {},
   "outputs": [],
   "source": [
    "def print_cluster(i):\n",
    "    print(\"Cluster %d:\" % i),\n",
    "    for ind in order_centroids[i, :10]:\n",
    "        print(' %s' % terms[ind]),\n",
    "    print"
   ]
  },
  {
   "cell_type": "code",
   "execution_count": 54,
   "id": "159b7900",
   "metadata": {},
   "outputs": [
    {
     "name": "stdout",
     "output_type": "stream",
     "text": [
      "Top terms per cluster:\n",
      "Cluster 0:\n",
      " warning\n",
      " cords\n",
      " alternatives\n",
      " strangulation\n",
      " present\n",
      " child\n",
      " access\n",
      " hazard\n",
      " consider\n",
      " potential\n",
      "Cluster 1:\n",
      " 72\n",
      " 96\n",
      " drive\n",
      " electrical\n",
      " efficient\n",
      " edgings\n",
      " edging\n",
      " easy\n",
      " easily\n",
      " ease\n",
      "Cluster 2:\n",
      " 25\n",
      " 10\n",
      " 33\n",
      " zip\n",
      " durable\n",
      " electroluminescence\n",
      " electrical\n",
      " efficient\n",
      " edgings\n",
      " edging\n",
      "Cluster 3:\n",
      " 96\n",
      " black\n",
      " 36\n",
      " resistant\n",
      " 18\n",
      " bamboo\n",
      " metal\n",
      " easy\n",
      " wall\n",
      " 375\n",
      "Cluster 4:\n",
      " white\n",
      " color\n",
      " zip\n",
      " dual\n",
      " electrical\n",
      " efficient\n",
      " edgings\n",
      " edging\n",
      " easy\n",
      " easily\n",
      "Cluster 5:\n",
      " tall\n",
      " diameter\n",
      " size\n",
      " 75\n",
      " 25\n",
      " zip\n",
      " easily\n",
      " dust\n",
      " duty\n",
      " ease\n",
      "Cluster 6:\n",
      " rectangle\n",
      " drive\n",
      " electrical\n",
      " efficient\n",
      " edgings\n",
      " edging\n",
      " easy\n",
      " easily\n",
      " ease\n",
      " duty\n",
      "Cluster 7:\n",
      " low\n",
      " maintenance\n",
      " clean\n",
      " easy\n",
      " zip\n",
      " efficient\n",
      " edgings\n",
      " edging\n",
      " easily\n",
      " ease\n",
      "Cluster 8:\n",
      " yes\n",
      " zip\n",
      " drive\n",
      " electrical\n",
      " efficient\n",
      " edgings\n",
      " edging\n",
      " easy\n",
      " easily\n",
      " ease\n",
      "Cluster 9:\n",
      " 75\n",
      " 25\n",
      " dual\n",
      " electroluminescence\n",
      " electrical\n",
      " efficient\n",
      " edgings\n",
      " edging\n",
      " easy\n",
      " easily\n",
      "Cluster 10:\n",
      " 90\n",
      " zip\n",
      " drive\n",
      " electrical\n",
      " efficient\n",
      " edgings\n",
      " edging\n",
      " easy\n",
      " easily\n",
      " ease\n",
      "Cluster 11:\n",
      " steel\n",
      " galvanized\n",
      " stainless\n",
      " construction\n",
      " strength\n",
      " gauge\n",
      " 12\n",
      " wires\n",
      " duty\n",
      " heavy\n",
      "Cluster 12:\n",
      " fiberboard\n",
      " density\n",
      " medium\n",
      " mdf\n",
      " cook\n",
      " element\n",
      " electrical\n",
      " efficient\n",
      " edgings\n",
      " edging\n",
      "Cluster 13:\n",
      " 60\n",
      " 25\n",
      " element\n",
      " electroluminescence\n",
      " electrical\n",
      " efficient\n",
      " edgings\n",
      " edging\n",
      " easy\n",
      " easily\n",
      "Cluster 14:\n",
      " 8583\n",
      " zip\n",
      " drive\n",
      " electrical\n",
      " efficient\n",
      " edgings\n",
      " edging\n",
      " easy\n",
      " easily\n",
      " ease\n"
     ]
    }
   ],
   "source": [
    "true_k = 15\n",
    "\n",
    "model = KMeans(n_clusters=true_k, init='k-means++', max_iter=100, n_init=1)\n",
    "model.fit(X1)\n",
    "\n",
    "print(\"Top terms per cluster:\")\n",
    "order_centroids = model.cluster_centers_.argsort()[:, ::-1]\n",
    "terms = vectorizer.get_feature_names_out()\n",
    "for i in range(true_k):\n",
    "    print_cluster(i)"
   ]
  },
  {
   "cell_type": "code",
   "execution_count": 55,
   "id": "2a548a49",
   "metadata": {},
   "outputs": [],
   "source": [
    "#Now implementing it with SVM"
   ]
  },
  {
   "cell_type": "code",
   "execution_count": 71,
   "id": "b9c0b3a6",
   "metadata": {},
   "outputs": [
    {
     "data": {
      "text/html": [
       "<style>#sk-container-id-1 {color: black;background-color: white;}#sk-container-id-1 pre{padding: 0;}#sk-container-id-1 div.sk-toggleable {background-color: white;}#sk-container-id-1 label.sk-toggleable__label {cursor: pointer;display: block;width: 100%;margin-bottom: 0;padding: 0.3em;box-sizing: border-box;text-align: center;}#sk-container-id-1 label.sk-toggleable__label-arrow:before {content: \"▸\";float: left;margin-right: 0.25em;color: #696969;}#sk-container-id-1 label.sk-toggleable__label-arrow:hover:before {color: black;}#sk-container-id-1 div.sk-estimator:hover label.sk-toggleable__label-arrow:before {color: black;}#sk-container-id-1 div.sk-toggleable__content {max-height: 0;max-width: 0;overflow: hidden;text-align: left;background-color: #f0f8ff;}#sk-container-id-1 div.sk-toggleable__content pre {margin: 0.2em;color: black;border-radius: 0.25em;background-color: #f0f8ff;}#sk-container-id-1 input.sk-toggleable__control:checked~div.sk-toggleable__content {max-height: 200px;max-width: 100%;overflow: auto;}#sk-container-id-1 input.sk-toggleable__control:checked~label.sk-toggleable__label-arrow:before {content: \"▾\";}#sk-container-id-1 div.sk-estimator input.sk-toggleable__control:checked~label.sk-toggleable__label {background-color: #d4ebff;}#sk-container-id-1 div.sk-label input.sk-toggleable__control:checked~label.sk-toggleable__label {background-color: #d4ebff;}#sk-container-id-1 input.sk-hidden--visually {border: 0;clip: rect(1px 1px 1px 1px);clip: rect(1px, 1px, 1px, 1px);height: 1px;margin: -1px;overflow: hidden;padding: 0;position: absolute;width: 1px;}#sk-container-id-1 div.sk-estimator {font-family: monospace;background-color: #f0f8ff;border: 1px dotted black;border-radius: 0.25em;box-sizing: border-box;margin-bottom: 0.5em;}#sk-container-id-1 div.sk-estimator:hover {background-color: #d4ebff;}#sk-container-id-1 div.sk-parallel-item::after {content: \"\";width: 100%;border-bottom: 1px solid gray;flex-grow: 1;}#sk-container-id-1 div.sk-label:hover label.sk-toggleable__label {background-color: #d4ebff;}#sk-container-id-1 div.sk-serial::before {content: \"\";position: absolute;border-left: 1px solid gray;box-sizing: border-box;top: 0;bottom: 0;left: 50%;z-index: 0;}#sk-container-id-1 div.sk-serial {display: flex;flex-direction: column;align-items: center;background-color: white;padding-right: 0.2em;padding-left: 0.2em;position: relative;}#sk-container-id-1 div.sk-item {position: relative;z-index: 1;}#sk-container-id-1 div.sk-parallel {display: flex;align-items: stretch;justify-content: center;background-color: white;position: relative;}#sk-container-id-1 div.sk-item::before, #sk-container-id-1 div.sk-parallel-item::before {content: \"\";position: absolute;border-left: 1px solid gray;box-sizing: border-box;top: 0;bottom: 0;left: 50%;z-index: -1;}#sk-container-id-1 div.sk-parallel-item {display: flex;flex-direction: column;z-index: 1;position: relative;background-color: white;}#sk-container-id-1 div.sk-parallel-item:first-child::after {align-self: flex-end;width: 50%;}#sk-container-id-1 div.sk-parallel-item:last-child::after {align-self: flex-start;width: 50%;}#sk-container-id-1 div.sk-parallel-item:only-child::after {width: 0;}#sk-container-id-1 div.sk-dashed-wrapped {border: 1px dashed gray;margin: 0 0.4em 0.5em 0.4em;box-sizing: border-box;padding-bottom: 0.4em;background-color: white;}#sk-container-id-1 div.sk-label label {font-family: monospace;font-weight: bold;display: inline-block;line-height: 1.2em;}#sk-container-id-1 div.sk-label-container {text-align: center;}#sk-container-id-1 div.sk-container {/* jupyter's `normalize.less` sets `[hidden] { display: none; }` but bootstrap.min.css set `[hidden] { display: none !important; }` so we also need the `!important` here to be able to override the default hidden behavior on the sphinx rendered scikit-learn.org. See: https://github.com/scikit-learn/scikit-learn/issues/21755 */display: inline-block !important;position: relative;}#sk-container-id-1 div.sk-text-repr-fallback {display: none;}</style><div id=\"sk-container-id-1\" class=\"sk-top-container\"><div class=\"sk-text-repr-fallback\"><pre>SVC()</pre><b>In a Jupyter environment, please rerun this cell to show the HTML representation or trust the notebook. <br />On GitHub, the HTML representation is unable to render, please try loading this page with nbviewer.org.</b></div><div class=\"sk-container\" hidden><div class=\"sk-item\"><div class=\"sk-estimator sk-toggleable\"><input class=\"sk-toggleable__control sk-hidden--visually\" id=\"sk-estimator-id-1\" type=\"checkbox\" checked><label for=\"sk-estimator-id-1\" class=\"sk-toggleable__label sk-toggleable__label-arrow\">SVC</label><div class=\"sk-toggleable__content\"><pre>SVC()</pre></div></div></div></div></div>"
      ],
      "text/plain": [
       "SVC()"
      ]
     },
     "execution_count": 71,
     "metadata": {},
     "output_type": "execute_result"
    }
   ],
   "source": [
    "import numpy as np\n",
    "from sklearn import svm\n",
    "\n",
    "# Assuming 'x' should have 500 samples, each with 1 feature\n",
    "# You need to reshape or expand 'x' to match the shape accordingly\n",
    "x = np.random.rand(500, 1)  # Example data with 500 samples and 1 feature\n",
    "\n",
    "# Assuming 'y' is an array of labels for 500 samples\n",
    "y = np.random.randint(0, 2, size=500)  # Example labels (0 or 1) for 500 samples\n",
    "\n",
    "# Fit SVM classifier\n",
    "clf = svm.SVC()\n",
    "clf.fit(x, y)\n"
   ]
  },
  {
   "cell_type": "code",
   "execution_count": 69,
   "id": "4541b63a",
   "metadata": {},
   "outputs": [
    {
     "name": "stdout",
     "output_type": "stream",
     "text": [
      "[[15]]\n"
     ]
    }
   ],
   "source": [
    "x = np.array(true_k).reshape(-1, 1)\n",
    "\n",
    "print(true_k_array)"
   ]
  },
  {
   "cell_type": "code",
   "execution_count": 66,
   "id": "6c3eef27",
   "metadata": {},
   "outputs": [],
   "source": [
    "y=y_kmeans.reshape(-1,1)"
   ]
  },
  {
   "cell_type": "code",
   "execution_count": 72,
   "id": "8af0e690",
   "metadata": {},
   "outputs": [],
   "source": [
    "def show_recommendations(product):\n",
    "    #print(\"Cluster ID:\")\n",
    "    Y = vectorizer.transform([product])\n",
    "    prediction = model.predict(Y)\n",
    "    #print(prediction)\n",
    "    print_cluster(prediction[0])"
   ]
  },
  {
   "cell_type": "code",
   "execution_count": 75,
   "id": "e0b1b11e",
   "metadata": {},
   "outputs": [
    {
     "name": "stdout",
     "output_type": "stream",
     "text": [
      "Cluster 3:\n",
      " 96\n",
      " black\n",
      " 36\n",
      " resistant\n",
      " 18\n",
      " bamboo\n",
      " metal\n",
      " easy\n",
      " wall\n",
      " 375\n"
     ]
    }
   ],
   "source": [
    "show_recommendations(\"pencil\")"
   ]
  },
  {
   "cell_type": "code",
   "execution_count": 76,
   "id": "6b98ffd0",
   "metadata": {},
   "outputs": [
    {
     "name": "stdout",
     "output_type": "stream",
     "text": [
      "enter the keywordpaint\n",
      "Cluster 3:\n",
      " 96\n",
      " black\n",
      " 36\n",
      " resistant\n",
      " 18\n",
      " bamboo\n",
      " metal\n",
      " easy\n",
      " wall\n",
      " 375\n",
      "None\n"
     ]
    }
   ],
   "source": [
    "n=input(\"enter the keyword\")\n",
    "print(show_recommendations(n))"
   ]
  },
  {
   "cell_type": "code",
   "execution_count": null,
   "id": "7dda49a2",
   "metadata": {},
   "outputs": [],
   "source": [
    "# Finally a recommendation system has been built for b2b process."
   ]
  }
 ],
 "metadata": {
  "kernelspec": {
   "display_name": "Python 3 (ipykernel)",
   "language": "python",
   "name": "python3"
  },
  "language_info": {
   "codemirror_mode": {
    "name": "ipython",
    "version": 3
   },
   "file_extension": ".py",
   "mimetype": "text/x-python",
   "name": "python",
   "nbconvert_exporter": "python",
   "pygments_lexer": "ipython3",
   "version": "3.10.9"
  }
 },
 "nbformat": 4,
 "nbformat_minor": 5
}
